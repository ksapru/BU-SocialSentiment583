{
 "cells": [
  {
   "cell_type": "markdown",
   "id": "ae68de65",
   "metadata": {},
   "source": [
    "### Example CNN for Audio\n",
    "\n",
    "In this notebook, we will show how to create a simple CNN for\n",
    "audio classification, using the spoken digits database. \n",
    "\n",
    "An excellent resource for CNNs is chapter 14 of \"Hands-on Machine Learning....\" by Geron:\n",
    "\n",
    "https://www.knowledgeisle.com/wp-content/uploads/2019/12/2-Aur%C3%A9lien-G%C3%A9ron-Hands-On-Machine-Learning-with-Scikit-Learn-Keras-and-Tensorflow_-Concepts-Tools-and-Techniques-to-Build-Intelligent-Systems-O%E2%80%99Reilly-Media-2019.pdf\n",
    "\n"
   ]
  },
  {
   "cell_type": "code",
   "execution_count": 4,
   "id": "01749ea0",
   "metadata": {},
   "outputs": [],
   "source": [
    "import matplotlib.pyplot as plt\n",
    "import numpy as np\n",
    "import seaborn as sns\n",
    "import pandas as pd\n",
    "import tensorflow as tf\n",
    "import librosa, librosa.display\n",
    "from IPython.display import Audio\n",
    "import os\n",
    "\n",
    "os.environ['KMP_DUPLICATE_LIB_OK']='True'\n",
    "\n",
    "from scipy import signal\n",
    "\n",
    "from scipy.signal import find_peaks\n",
    "\n",
    "# Scikit-Learn ≥0.20 is required\n",
    "import sklearn\n",
    "assert sklearn.__version__ >= \"0.20\"\n",
    "\n",
    "# TensorFlow ≥2.0 is required\n",
    "import tensorflow as tf\n",
    "from tensorflow import keras\n",
    "assert tf.__version__ >= \"2.0\"\n",
    "\n",
    "%matplotlib inline\n",
    "\n",
    "# Basic audio parameters\n",
    "\n",
    "SR            = 22050                  #  sample rate default for Librosa\n",
    "\n",
    "# Utility functions\n",
    "\n",
    "# Round to 4 decimal places\n",
    "\n",
    "def round4(x):\n",
    "    return np.around(x,4)  \n",
    "\n",
    "# normalize a signal so that its max = 1.0\n",
    "\n",
    "def normalize(x):\n",
    "    return x / max(abs(x))"
   ]
  },
  {
   "cell_type": "code",
   "execution_count": 5,
   "id": "bbfaaf72",
   "metadata": {},
   "outputs": [],
   "source": [
    "import soundfile as sf\n",
    "import io\n",
    "import warnings\n",
    "\n",
    "from six.moves.urllib.request import urlopen\n",
    "\n",
    "def readSignal(name,sr=None):    \n",
    "    if(name[:5] == 'https'):\n",
    "        with warnings.catch_warnings():\n",
    "            warnings.simplefilter(\"ignore\")\n",
    "            X, fileSR = sf.read(io.BytesIO(urlopen(name).read()))           \n",
    "    else:\n",
    "        with warnings.catch_warnings():\n",
    "            warnings.simplefilter(\"ignore\")\n",
    "            X, fileSR = librosa.load(name)\n",
    "    if((sr == None) or (fileSR == sr)):\n",
    "        return X\n",
    "    else:\n",
    "        return librosa.resample(X,fileSR,SR) \n",
    "\n",
    "# write signal array out to a file in your local directory (or to complete path name)\n",
    "\n",
    "def writeSignal(name,data,sr=SR):\n",
    "    sf.write(name,data,sr)"
   ]
  },
  {
   "cell_type": "code",
   "execution_count": 6,
   "id": "4838c8c8",
   "metadata": {},
   "outputs": [],
   "source": [
    "# Display \n",
    "\n",
    "\n",
    "def displaySignal(X, sr=SR, title='Signal Window for X',x_units = \"Seconds\", figsize=(14,6),gridlines=False): \n",
    "    \n",
    "    if(x_units == \"Seconds\"):\n",
    "        T = np.arange(0, len(X)/sr, 1/sr)\n",
    "    elif(x_units == \"Milliseconds\"):\n",
    "        T = np.arange(0, 1000*len(X)/sr, 1000/sr)\n",
    "    elif(x_units == \"Samples\"):\n",
    "        T = np.arange(len(X))\n",
    "\n",
    "    plt.figure(figsize=figsize)   # Set x and y dimensions of window: may need to redo for your display\n",
    "    plt.title(title, fontsize=14, fontweight='bold')\n",
    "    if(x_units==\"Samples\"):\n",
    "        plt.xlabel(\"Sample Number\")\n",
    "    else:\n",
    "        plt.xlabel(x_units)\n",
    "    plt.ylabel(\"Amplitude\")\n",
    "    plt.ylim([-1.1,1.1])\n",
    "    plt.plot([0,T[-1]],[0,0],color='black')      # draw the 0 line in black\n",
    "    plt.plot(T,X)                    \n",
    "    plt.grid(gridlines)                     # if you want dotted grid lines\n",
    "    plt.show()\n",
    "    \n",
    "# test\n",
    "\n",
    "# f = 10\n",
    "# X = makeSignal([(10,1,0)])\n",
    "# displaySignal(X,gridlines=True)\n",
    "\n",
    "# displaySignal(X,x_units=\"Samples\")\n",
    "\n",
    "# displaySignal(X,x_units=\"Milliseconds\")"
   ]
  },
  {
   "cell_type": "code",
   "execution_count": 7,
   "id": "c40c54cb",
   "metadata": {},
   "outputs": [],
   "source": [
    "# Amplitude-based onset detection\n",
    "\n",
    "# The energy in a window is the mean of the squared amplitudes\n",
    "\n",
    "def energy(x):\n",
    "    return (x @ x) / len(x)\n",
    "\n",
    "# Half-wave rectification\n",
    "\n",
    "def rectify(x):\n",
    "    if(isinstance(x,np.ndarray)):\n",
    "        return np.maximum(x,np.zeros(len(x)))\n",
    "    elif(isinstance(x,list)):\n",
    "        return list(np.maximum(x,np.zeros(len(x))))\n",
    "    else:\n",
    "        return max(x,0)\n",
    "\n",
    "def AmplitudeBasedOnsets(X,window_size=512,hop_length=256,scale=10,\n",
    "                         height=None,\n",
    "                         prominence=None,\n",
    "                         distance=None,\n",
    "                         displayAll=False):\n",
    "    \n",
    "    N = len(X)\n",
    "    \n",
    "    X = X / max(X)       # normalize amplitude\n",
    "\n",
    "    num_windows = (N // hop_length) - 1\n",
    "    window_locations = hop_length * np.arange(num_windows)\n",
    "    X_energy = np.array( [ energy( X[ w : (w+window_size)] ) for w in window_locations ])\n",
    "    \n",
    "    if(displayAll):\n",
    "        plt.figure(figsize=(12,4))\n",
    "        plt.title(\"X Energy Signal\")\n",
    "        plt.plot(X_energy)\n",
    "        plt.show()\n",
    "\n",
    "    # take the log with scaling factor\n",
    "    # if scale = None, don't do the log\n",
    "\n",
    "    if(scale == None):\n",
    "        X_energy_log = X_energy\n",
    "    else:\n",
    "        X_energy_log = np.log(1 + scale*X_energy)\n",
    "\n",
    "        if(displayAll):\n",
    "            plt.figure(figsize=(12,4))\n",
    "            plt.title(\"Log X Energy Signal with scale factor \"+str(scale))\n",
    "            plt.plot(X_energy_log)\n",
    "            plt.show()\n",
    "\n",
    "    # Difference = Novelty Function\n",
    "    \n",
    "    # add 0 at beginning so diff alines with change in new window\n",
    "    \n",
    "    X_energy_log = np.concatenate([[0],X_energy_log])    \n",
    "\n",
    "    # Take the discrete differential; watch out, diff transforms array in place\n",
    "\n",
    "    X_energy_novelty = np.diff(list(X_energy_log)) \n",
    "    \n",
    "    # standardize novelty\n",
    "    \n",
    "    X_energy_novelty = X_energy_novelty / max(X_energy_novelty)\n",
    "    \n",
    "    if(displayAll):\n",
    "        plt.figure(figsize=(12,4))\n",
    "        plt.title(\"X Energy Novelty\")\n",
    "        plt.plot(X_energy_novelty)\n",
    "        plt.show()\n",
    "\n",
    "    X_energy_novelty_rectified = rectify(X_energy_novelty)      \n",
    "    \n",
    "    if(displayAll):\n",
    "        plt.figure(figsize=(12,4))\n",
    "        plt.title(\"Rectified X Energy Novelty\")\n",
    "        plt.plot(X_energy_novelty_rectified)\n",
    "        plt.show()\n",
    "\n",
    "    # peak picking\n",
    "\n",
    "    peaks,_ = find_peaks(X_energy_novelty_rectified,\n",
    "                         height=height,prominence=prominence,distance=distance)   \n",
    "\n",
    "    if(len(peaks)==0):\n",
    "        print(\"No peaks found!\")\n",
    "        return (np.array([]), np.zeros(len(X)))\n",
    "    \n",
    "    if(displayAll):    \n",
    "        plt.figure(figsize=(12,4))\n",
    "        plt.title(\"Picking Peaks\")\n",
    "        plt.plot(peaks, X_energy_novelty_rectified[peaks], \"or\")\n",
    "        plt.plot(X_energy_novelty_rectified)\n",
    "        plt.show()\n",
    "    \n",
    "    # peaks are beginning of window, more accurate to make the onsets in the middle\n",
    "    # of the window, reduces potential error by 1/2\n",
    "    \n",
    "    onsets = peaks*hop_length + window_size//2\n",
    "    \n",
    "    if(displayAll):\n",
    "        plt.figure(figsize=(12,4))\n",
    "        plt.title(\"Signal with Onsets\")\n",
    "        plt.plot(X)\n",
    "        for k in range(len(onsets)):\n",
    "            plt.plot([onsets[k],onsets[k]],[-1,1],color='r')    \n",
    "        plt.show()\n",
    "    \n",
    "    return onsets"
   ]
  },
  {
   "attachments": {
    "Screen%20Shot%202021-12-14%20at%202.04.36%20PM.png": {
     "image/png": "[encoded data removed]"
    }
   },
   "cell_type": "markdown",
   "id": "72eb9473",
   "metadata": {},
   "source": [
    "### The Spoken Digits Dataset\n",
    "\n",
    "\n",
    "For this example of applying a CNN to audio data, we will work with a set of recordings\n",
    "of people speaking the digits 0 -- 9, from:\n",
    "\n",
    "https://github.com/Jakobovski/free-spoken-digit-dataset\n",
    "\n",
    "There are 3000 sample signals with  6 different speakers (george, jackson, lucas, nicolas,\n",
    "theo, and yweweler), who speak each of the digits 50 times in separate files.\n",
    "\n",
    "There are many different libraries to help with data wrangling, but for this\n",
    "first example I will go through all the steps. First we must load the data into\n",
    "an array and keep track of the meta-data, which in this case is in the names of the files,\n",
    "which are of the form:\n",
    "\n",
    "    digit_speaker_id-number.wav\n",
    "    \n",
    "as shown here:\n",
    "\n",
    "![Screen%20Shot%202021-12-14%20at%202.04.36%20PM.png](attachment:Screen%20Shot%202021-12-14%20at%202.04.36%20PM.png)\n",
    "\n"
   ]
  },
  {
   "cell_type": "code",
   "execution_count": 11,
   "id": "7e35eb7b",
   "metadata": {},
   "outputs": [],
   "source": [
    "speakers = np.array(['george', 'jackson', 'lucas', 'nicolas', 'theo', 'yweweler'])\n",
    "\n",
    "num_speakers = len(speakers)\n",
    "\n",
    "curr_path = '/Users/waynesnyder/Documents/Teaching/CS583/Lectures and Demonstrations/Lecture 20 -- Intro to ML for Audio/'\n",
    "\n",
    "dataset_dir = \"free-spoken-digit-dataset-master/recordings/\"\n",
    "\n",
    "# print(os.path.join(curr_path,dataset_dir))\n",
    "# os.listdir(os.path.join(curr_path,dataset_dir))"
   ]
  },
  {
   "cell_type": "code",
   "execution_count": 12,
   "id": "664c72a5",
   "metadata": {},
   "outputs": [
    {
     "ename": "FileNotFoundError",
     "evalue": "[WinError 3] The system cannot find the path specified: '_dl--eQ6VU.wav'",
     "output_type": "error",
     "traceback": [
      "\u001b[1;31m---------------------------------------------------------------------------\u001b[0m",
      "\u001b[1;31mFileNotFoundError\u001b[0m                         Traceback (most recent call last)",
      "\u001b[1;32m<ipython-input-12-a484a18b4b05>\u001b[0m in \u001b[0;36m<module>\u001b[1;34m\u001b[0m\n\u001b[0;32m      3\u001b[0m \u001b[1;33m\u001b[0m\u001b[0m\n\u001b[0;32m      4\u001b[0m \u001b[1;31m#count = 0\u001b[0m\u001b[1;33m\u001b[0m\u001b[1;33m\u001b[0m\u001b[1;33m\u001b[0m\u001b[0m\n\u001b[1;32m----> 5\u001b[1;33m \u001b[1;32mfor\u001b[0m \u001b[0mfilename\u001b[0m \u001b[1;32min\u001b[0m \u001b[0mos\u001b[0m\u001b[1;33m.\u001b[0m\u001b[0mlistdir\u001b[0m\u001b[1;33m(\u001b[0m\u001b[0mdataset_dir\u001b[0m\u001b[1;33m)\u001b[0m\u001b[1;33m:\u001b[0m\u001b[1;33m\u001b[0m\u001b[1;33m\u001b[0m\u001b[0m\n\u001b[0m\u001b[0;32m      6\u001b[0m     \u001b[1;32mif\u001b[0m\u001b[1;33m(\u001b[0m\u001b[0mfilename\u001b[0m\u001b[1;33m[\u001b[0m\u001b[1;36m0\u001b[0m\u001b[1;33m]\u001b[0m \u001b[1;33m==\u001b[0m \u001b[1;34m'.'\u001b[0m\u001b[1;33m)\u001b[0m\u001b[1;33m:\u001b[0m      \u001b[1;31m# to avoid hidden files such as .DS_Store\u001b[0m\u001b[1;33m\u001b[0m\u001b[1;33m\u001b[0m\u001b[0m\n\u001b[0;32m      7\u001b[0m         \u001b[1;32mcontinue\u001b[0m\u001b[1;33m\u001b[0m\u001b[1;33m\u001b[0m\u001b[0m\n",
      "\u001b[1;31mFileNotFoundError\u001b[0m: [WinError 3] The system cannot find the path specified: '_dl--eQ6VU.wav'"
     ]
    }
   ],
   "source": [
    "spoken_digit_data = []\n",
    "spoken_digit_meta_data = []\n",
    "\n",
    "#count = 0\n",
    "for filename in os.listdir(dataset_dir):\n",
    "    if(filename[0] == '.'):      # to avoid hidden files such as .DS_Store\n",
    "        continue\n",
    "    X, fileSR = librosa.load(dataset_dir+filename)\n",
    "    if(fileSR != SR):           # error checking, to make sure all signals are SR = 22050\n",
    "        print(\"Error:\",filename, fileSR)\n",
    "        \n",
    "    spoken_digit_data.append(X)\n",
    "    # separate components of filename of form:   digit_speaker_id-number.wav\n",
    "    fns = filename.split('_')\n",
    "    digit = int(fns[0])\n",
    "    name = fns[1]\n",
    "    idnum = int(fns[2][0])\n",
    "    spoken_digit_meta_data.append( (digit,name,idnum) )\n",
    "\n",
    "len(spoken_digit_data)"
   ]
  },
  {
   "cell_type": "code",
   "execution_count": null,
   "id": "6ec674c3",
   "metadata": {},
   "outputs": [],
   "source": [
    "# test\n",
    "k = 1234\n",
    "print(spoken_digit_meta_data[k])\n",
    "displaySignal(spoken_digit_data[k])\n",
    "Audio(spoken_digit_data[k],rate=fileSR)"
   ]
  },
  {
   "cell_type": "markdown",
   "id": "8614ce8a",
   "metadata": {},
   "source": [
    "### Data exploration \n",
    "\n",
    "The usual next step in any data science project, after reading in the data, is to\n",
    "explore some of its features. \n",
    "\n",
    "Here we will examine the length of each signal, and then look at various useful features. \n"
   ]
  },
  {
   "cell_type": "code",
   "execution_count": 10,
   "id": "e06c65f1",
   "metadata": {},
   "outputs": [],
   "source": [
    "# create matrix of features for the classifier\n",
    "\n",
    "num_features = 7\n",
    "\n",
    "spoken_digit_features = np.empty((len(spoken_digit_data),num_features))\n",
    "\n",
    "for k in range(len(spoken_digit_data)):\n",
    "\n",
    "    y = spoken_digit_data[k]\n",
    "\n",
    "    # These functions compute a value for each frame, either from the audio \n",
    "    # samples y or from a spectrogram S.\n",
    "\n",
    "    # By making the hop_length longer than the signal, we just grab the metric \n",
    "    # of the whole signal\n",
    "\n",
    "\n",
    "    RMS = librosa.feature.rms(y,hop_length=len(y)+1)[0][0]\n",
    "    #print('rms:',RMS)\n",
    "\n",
    "    SC = librosa.feature.spectral_centroid(y,hop_length=len(y)+1)[0][0]\n",
    "    #print('spectral_centroid:',SC)\n",
    "\n",
    "    SB = librosa.feature.spectral_bandwidth(y,hop_length=len(y)+1)[0][0]\n",
    "    #print('spectral_bandwidth:',SB)\n",
    "\n",
    "    SCON = librosa.feature.spectral_contrast(y,hop_length=len(y)+1)[0][0]\n",
    "    #print('spectral_contrast:',SCON)\n",
    "\n",
    "    SF = librosa.feature.spectral_flatness(y,hop_length=len(y)+1)[0][0]\n",
    "    #print('spectral_flatness:',SF)\n",
    "\n",
    "    SR = librosa.feature.spectral_rolloff(y,hop_length=len(y)+1)[0][0]\n",
    "    #print('spectral_rolloff:',SR)\n",
    "\n",
    "    ZCR = librosa.feature.zero_crossing_rate(y,hop_length=len(y)+1)[0][0]\n",
    "    #print('zero_crossing_rate:',ZCR)\n",
    "    \n",
    "    spoken_digit_features[k] = np.array([RMS,SC,SB,SCON,SF,SR,ZCR])"
   ]
  },
  {
   "cell_type": "code",
   "execution_count": null,
   "id": "6710bbee",
   "metadata": {},
   "outputs": [],
   "source": [
    "# Try a histogram of each feature\n",
    "\n",
    "feature_names = ['Root Mean Square Energy','Spectral Centroid','Spectral Bandwidth','Spectral Contrast',\n",
    "                 'Spectral Flatness','Spectral Rolloff','Zero-Crossing Rate']\n",
    "\n",
    "for k in range(num_features):    \n",
    "    plt.figure(figsize=(12,4))\n",
    "    plt.title(feature_names[k])\n",
    "    plt.hist([fs[k] for fs in spoken_digit_features],bins=100, edgecolor='black')  # This gives the number of different signal lengths in the data set\n",
    "    plt.show()\n"
   ]
  },
  {
   "cell_type": "code",
   "execution_count": null,
   "id": "35359510",
   "metadata": {},
   "outputs": [],
   "source": [
    "#Try graphing two at a time\n",
    "\n",
    "# feature_names = ['Root Mean Square Energy','Spectral Centroid','Spectral Bandwidth','Spectral Contrast',\n",
    "#                  'Spectral Flatness','Spectral Rolloff','Zero-Crossing Rate']\n",
    "\n",
    "f1 = 1\n",
    "f2 = 2\n",
    "\n",
    "plt.figure(figsize=(16,8))\n",
    "plt.title(\"Comparison of \"+feature_names[f1]+\" and \"+feature_names[f2])\n",
    "plt.scatter([fs[f1] for fs in spoken_digit_features],[fs[f2] for fs in spoken_digit_features])\n",
    "plt.xlabel(feature_names[f1])\n",
    "plt.ylabel(feature_names[f2])\n",
    "plt.show()"
   ]
  },
  {
   "cell_type": "markdown",
   "id": "097fa1d8",
   "metadata": {},
   "source": [
    "### Exploring the length of the signals (Important!)\n",
    "\n",
    "In order to input the data to the CNN, we will need to convert the signals to mel spectrograms, but--important!--each such spectrogram has to have the same exact shape to be processed by the CNN, which means that **each signal \n",
    "has to have the exact same length.** \n",
    "\n",
    "Unfortunately, this is not true, as the next cell shows!"
   ]
  },
  {
   "cell_type": "code",
   "execution_count": null,
   "id": "69f0edec",
   "metadata": {},
   "outputs": [],
   "source": [
    "plt.figure(figsize=(16,6))\n",
    "plt.title(\"Signal Lengths in Samples\")\n",
    "plt.hist([len(x) for x in spoken_digit_data],bins=100, edgecolor='black')  # This gives the number of different signal lengths in the data set\n",
    "plt.show()"
   ]
  },
  {
   "cell_type": "markdown",
   "id": "a21dca30",
   "metadata": {},
   "source": [
    "### Normalizing the amplitude and trimming the audio files\n",
    "\n",
    "When processing any kind of data with a NN, it is important that the sample not have significant\n",
    "differences that have nothing to do with the information we wish to process. For example, in\n",
    "this data set, some speakers are louder than others, and so if we wish to identify speakers,\n",
    "it will be too easy if the mean amplitude can be used to characterize each speaker!\n",
    "\n",
    "In addition, the samples, as we just saw, have different lengths, some because there is silence at the beginning\n",
    "and/or end of the clip. \n",
    "In order to preserve the most information in each sample, we will find the beginning and end of\n",
    "the spoken digit, and then trim to a uniform length.  The beginning may be found by the onset detector,\n",
    "and the end may be found by reversing the clip and finding the onset (which corresponds to the end of the digit). \n",
    "\n",
    "The very long samples (at the right end\n",
    "of the histogram) we shall have to examine one by one to determine what is going on!\n",
    "\n",
    "Some data files may need to be removed if they can not be transformed into a uniform length. \n",
    "\n",
    "We will add 0.25 secs of silence to the beginning and the end of the clip (to avoid problems with\n",
    "finding onsets at the very beginning of a file, which can be problematic), and then find the onset\n",
    "and the onset of the reversed signal. Finding the appropriate settings for the parameters in the\n",
    "onset detector is critical here. \n",
    "\n"
   ]
  },
  {
   "cell_type": "markdown",
   "id": "b7b8ee5d",
   "metadata": {},
   "source": [
    "First we explore the effect of various parameters to the onset detector, and come up with\n",
    "a reasonable choice for finding the beginning and end of the spoken digit in the signal.  \n",
    "We will also find the distribution of the resulting lengths, so we can choose a uniform\n",
    "length for the inputs to the CNN. \n"
   ]
  },
  {
   "cell_type": "code",
   "execution_count": null,
   "id": "e0fe599c",
   "metadata": {},
   "outputs": [],
   "source": [
    "# AmplitudeBasedOnsets(X,window_size=512,overlap=0.5,scale=10,\n",
    "#                      height=None, prominence=None, distance=None, \n",
    "#                      displayAll=False):\n",
    "\n",
    "lens = []\n",
    "\n",
    "lst = [8,9,13,14,16,24,29,32,31,59]       # these were ones that seemed problematic as I tested\n",
    "\n",
    "for k in range(len(spoken_digit_data)):                     \n",
    "    x = spoken_digit_data[k]\n",
    "    x1 = np.concatenate([np.zeros(int(SR//4)),normalize(x)])\n",
    "    onsets = AmplitudeBasedOnsets(x1,window_size=128,hop_length=1, \n",
    "                                  scale=100,height=0.01, prominence=0.01,displayAll=False)\n",
    "    offsets = AmplitudeBasedOnsets(x1[::-1],window_size=128,hop_length=1, \n",
    "                                   scale=100,height=0.01, prominence=0.01,displayAll=False)\n",
    "    \n",
    "    start = onsets[0]\n",
    "    end = len(x1) - offsets[0]\n",
    "    \n",
    "    lens.append(end-start)\n",
    "    \n",
    "    if(k in lst):\n",
    "        print(k,start,end)\n",
    "        plt.figure(figsize=(12,4))\n",
    "        plt.title(\"Signal with Onsets\")\n",
    "        plt.plot(x1)\n",
    "        plt.plot([start,start],[-1,1],color='r')\n",
    "        plt.plot([end,end],[-1,1],color='g')\n",
    "        plt.show()\n",
    "    \n",
    "    \n",
    "plt.figure(figsize=(16,6))\n",
    "plt.title(\"Signal Lengths in Samples\")\n",
    "plt.hist(lens,bins=100, edgecolor='black')  # This gives the number of different signal lengths in the data set\n",
    "plt.show()"
   ]
  },
  {
   "cell_type": "markdown",
   "id": "c7e4ba9b",
   "metadata": {},
   "source": [
    "Let's look at the clips that are longer than 0.75 seconds (16537 samples), and verify that\n",
    "they do not have useful information at the end. "
   ]
  },
  {
   "cell_type": "code",
   "execution_count": null,
   "id": "bed884d7",
   "metadata": {},
   "outputs": [],
   "source": [
    "new_len = 16537\n",
    "for k in range(len(lens)):\n",
    "    if(lens[k] > new_len):\n",
    "        print(spoken_digit_meta_data[k])\n",
    "        displaySignal(spoken_digit_data[k])"
   ]
  },
  {
   "cell_type": "markdown",
   "id": "a79cc9c0",
   "metadata": {},
   "source": [
    "Ok, it seems that 0.75 secs (16537 samples) is about the shortest we can make\n",
    "the clips to preserve all the useful information. \n",
    "\n",
    "\n",
    "Next we will normalize the signals, then trim them by removing anything before the first onset and after the onset + 16537; if the result is not 16537 samples long, we will extend it with 0s.  "
   ]
  },
  {
   "cell_type": "code",
   "execution_count": null,
   "id": "8a8633fe",
   "metadata": {},
   "outputs": [],
   "source": [
    "spoken_digit_data_trimmed = []\n",
    "\n",
    "for k in range(len(spoken_digit_data)):                     \n",
    "    x = spoken_digit_data[k]\n",
    "    x1 = np.concatenate([np.zeros(int(SR//4)),normalize(x)])\n",
    "    onsets = AmplitudeBasedOnsets(x1,window_size=128,hop_length=1, \n",
    "                                  scale=100,height=0.01, prominence=0.01,displayAll=False)\n",
    "    \n",
    "    start = onsets[0]\n",
    "    if(len(x1) > start+new_len):              # long enough, just trim\n",
    "        x2 = x1[start:(start+new_len)]\n",
    "    else:                                     # not long enough, add zeros to end\n",
    "        x2 = np.concatenate( [ x1[start:], np.zeros(new_len - len(x1) + start)  ] )\n",
    "        \n",
    "    if(len(x2) != new_len):                   # to verify that all are length new_len\n",
    "        print(k,spoken_digit_meta_data[k])\n",
    "        break\n",
    "        \n",
    "    spoken_digit_data_trimmed.append(x2)\n",
    "        \n",
    "\n",
    "        \n",
    "len(spoken_digit_data_trimmed)"
   ]
  },
  {
   "cell_type": "markdown",
   "id": "6d6298f0",
   "metadata": {},
   "source": [
    "### Transforming the audio files to mel spectrograms\n",
    "\n",
    "We will input mel spectrograms to the CNN, so we need to convert our audio files to\n",
    "that form. \n"
   ]
  },
  {
   "cell_type": "code",
   "execution_count": null,
   "id": "40843c2e",
   "metadata": {},
   "outputs": [],
   "source": [
    "mel_spectrograms = []\n",
    "SR = 22050\n",
    "\n",
    "for x in spoken_digit_data_trimmed:\n",
    "    mel_spectrograms.append(librosa.feature.melspectrogram(x,SR,n_fft=512,hop_length=256, power=1))\n",
    "    \n",
    "a = mel_spectrograms\n",
    "\n",
    "mel_spectrograms = np.asarray(mel_spectrograms)\n",
    "\n",
    "b = mel_spectrograms \n",
    "\n",
    "mel_spect_shape = list(mel_spectrograms.shape)\n",
    "mel_spect_shape.append(1)\n",
    "\n",
    "mel_spectrograms = mel_spectrograms.reshape(mel_spect_shape)"
   ]
  },
  {
   "cell_type": "code",
   "execution_count": null,
   "id": "52ac7f46",
   "metadata": {},
   "outputs": [],
   "source": [
    "mel_spect_shape\n"
   ]
  },
  {
   "cell_type": "code",
   "execution_count": null,
   "id": "d3faed53",
   "metadata": {},
   "outputs": [],
   "source": [
    "librosa.display.specshow(mel_spectrograms[150].reshape(mel_spect_shape[1:-1]),\n",
    "                         y_axis='mel', x_axis='time')\n",
    "plt.title('Mel Spectrogram')\n",
    "plt.colorbar()"
   ]
  },
  {
   "cell_type": "markdown",
   "id": "d07da645",
   "metadata": {},
   "source": [
    "### Creating labels for the data set\n",
    "\n",
    "We must provide a set of numeric labels for the data set.\n",
    "Assuming we are trying to classify on the numbers spoken (as\n",
    "opposed, say, to the speakers), we simply extract the first\n",
    "number in each pair in the meta data:"
   ]
  },
  {
   "cell_type": "code",
   "execution_count": null,
   "id": "25d75a8a",
   "metadata": {},
   "outputs": [],
   "source": [
    "spoken_digit_meta_data[:10]"
   ]
  },
  {
   "cell_type": "code",
   "execution_count": null,
   "id": "0fa31f99",
   "metadata": {},
   "outputs": [],
   "source": [
    "labels = np.array( [ n for (n,_,_) in spoken_digit_meta_data] )\n",
    "\n",
    "print(labels[:10])\n",
    "len(labels)"
   ]
  },
  {
   "cell_type": "markdown",
   "id": "c1df2228",
   "metadata": {},
   "source": [
    "## Separating Test Data"
   ]
  },
  {
   "cell_type": "code",
   "execution_count": null,
   "id": "c5a019a6",
   "metadata": {},
   "outputs": [],
   "source": [
    "mel_spectrograms.shape"
   ]
  },
  {
   "cell_type": "code",
   "execution_count": null,
   "id": "b1ad8f2d",
   "metadata": {},
   "outputs": [],
   "source": [
    "from sklearn.model_selection import train_test_split\n",
    "\n",
    "X_train_full, X_test, y_train_full, y_test = train_test_split(mel_spectrograms, labels, test_size=0.20, random_state=42)\n",
    "\n",
    "X_valid,X_train = X_train_full[:30],X_train_full[30:]    # see p.298 in \"Hands-On...\"\n",
    "y_valid,y_train = y_train_full[:30],y_train_full[30:]"
   ]
  },
  {
   "cell_type": "code",
   "execution_count": null,
   "id": "9238493f",
   "metadata": {},
   "outputs": [],
   "source": [
    "X_train_full.shape"
   ]
  },
  {
   "cell_type": "code",
   "execution_count": null,
   "id": "7eb87744",
   "metadata": {},
   "outputs": [],
   "source": [
    "X_train.shape"
   ]
  },
  {
   "cell_type": "code",
   "execution_count": null,
   "id": "967180ef",
   "metadata": {},
   "outputs": [],
   "source": [
    "X_valid.shape"
   ]
  },
  {
   "cell_type": "code",
   "execution_count": null,
   "id": "10dc7e7d",
   "metadata": {},
   "outputs": [],
   "source": [
    "X_test.shape"
   ]
  },
  {
   "cell_type": "code",
   "execution_count": 25,
   "id": "c801cc81",
   "metadata": {},
   "outputs": [
    {
     "ename": "NameError",
     "evalue": "name 'y_train_full' is not defined",
     "output_type": "error",
     "traceback": [
      "\u001b[1;31m---------------------------------------------------------------------------\u001b[0m",
      "\u001b[1;31mNameError\u001b[0m                                 Traceback (most recent call last)",
      "\u001b[1;32m<ipython-input-25-7176c06c8035>\u001b[0m in \u001b[0;36m<module>\u001b[1;34m\u001b[0m\n\u001b[1;32m----> 1\u001b[1;33m \u001b[0my_train_full\u001b[0m\u001b[1;33m.\u001b[0m\u001b[0mshape\u001b[0m\u001b[1;33m\u001b[0m\u001b[1;33m\u001b[0m\u001b[0m\n\u001b[0m",
      "\u001b[1;31mNameError\u001b[0m: name 'y_train_full' is not defined"
     ]
    }
   ],
   "source": [
    "y_train_full.shape"
   ]
  },
  {
   "cell_type": "code",
   "execution_count": null,
   "id": "b41f3c7e",
   "metadata": {},
   "outputs": [],
   "source": [
    "y_train.shape"
   ]
  },
  {
   "cell_type": "code",
   "execution_count": null,
   "id": "f1a8d7cf",
   "metadata": {},
   "outputs": [],
   "source": [
    "y_valid.shape"
   ]
  },
  {
   "cell_type": "code",
   "execution_count": null,
   "id": "2a802f6d",
   "metadata": {},
   "outputs": [],
   "source": [
    "y_test.shape"
   ]
  },
  {
   "cell_type": "markdown",
   "id": "900477a8",
   "metadata": {},
   "source": [
    "## Model Creation"
   ]
  },
  {
   "cell_type": "code",
   "execution_count": null,
   "id": "2658ca70",
   "metadata": {},
   "outputs": [],
   "source": [
    "import os\n",
    "os.environ['KMP_DUPLICATE_LIB_OK']='True'"
   ]
  },
  {
   "cell_type": "code",
   "execution_count": null,
   "id": "792359b4",
   "metadata": {},
   "outputs": [],
   "source": [
    "from tensorflow.keras.models import Sequential\n",
    "from tensorflow.keras.layers import Dense, Dropout, Conv2D, MaxPool2D, Flatten, BatchNormalization\n",
    "from tensorflow.keras.callbacks import EarlyStopping"
   ]
  },
  {
   "cell_type": "code",
   "execution_count": null,
   "id": "44b697ba",
   "metadata": {},
   "outputs": [],
   "source": [
    "model = Sequential()"
   ]
  },
  {
   "cell_type": "code",
   "execution_count": null,
   "id": "48a4862d",
   "metadata": {},
   "outputs": [],
   "source": [
    "mel_spect_shape[1:]"
   ]
  },
  {
   "cell_type": "code",
   "execution_count": null,
   "id": "9795167a",
   "metadata": {},
   "outputs": [],
   "source": [
    "model = keras.models.Sequential([\n",
    "    keras.layers.Conv2D(filters=64, kernel_size=7, activation=\"relu\", padding=\"same\",input_shape=[128, 65, 1]),\n",
    "    keras.layers.MaxPooling2D(pool_size=2),\n",
    "    keras.layers.Conv2D(filters=128, kernel_size=3, activation=\"relu\", padding=\"same\"),\n",
    "    keras.layers.Conv2D(filters=128, kernel_size=3, activation=\"relu\", padding=\"same\"),\n",
    "    keras.layers.MaxPooling2D(pool_size=2),\n",
    "    keras.layers.Conv2D(filters=256, kernel_size=3, activation=\"relu\", padding=\"same\"),\n",
    "    keras.layers.Conv2D(filters=256, kernel_size=3, activation=\"relu\", padding=\"same\"),\n",
    "    keras.layers.MaxPooling2D(pool_size=2),\n",
    "    keras.layers.Flatten(),\n",
    "    keras.layers.Dense(units=128, activation='relu'),\n",
    "    keras.layers.Dropout(0.5),\n",
    "    keras.layers.Dense(units=64, activation='relu'),\n",
    "    keras.layers.Dropout(0.5),\n",
    "    keras.layers.Dense(units=10, activation='softmax'),\n",
    "])"
   ]
  },
  {
   "cell_type": "code",
   "execution_count": null,
   "id": "0cd7452f",
   "metadata": {},
   "outputs": [],
   "source": [
    "model.compile(optimizer=\"adam\",loss=\"categorical_crossentropy\",metrics=[\"accuracy\"])"
   ]
  },
  {
   "cell_type": "code",
   "execution_count": null,
   "id": "0d1c848a",
   "metadata": {},
   "outputs": [],
   "source": [
    "model.compile(loss=\"sparse_categorical_crossentropy\", optimizer=\"nadam\", metrics=[\"accuracy\"])\n",
    "history = model.fit(X_train, y_train, epochs=10, validation_data=(X_valid, y_valid))\n",
    "score = model.evaluate(X_test, y_test)\n",
    "X_new = X_test[:10] # pretend we have new images\n",
    "y_pred = model.predict(X_new)"
   ]
  },
  {
   "cell_type": "code",
   "execution_count": null,
   "id": "a0f6d6ca",
   "metadata": {},
   "outputs": [],
   "source": []
  },
  {
   "cell_type": "code",
   "execution_count": null,
   "id": "0e54ab64",
   "metadata": {},
   "outputs": [],
   "source": []
  },
  {
   "cell_type": "code",
   "execution_count": null,
   "id": "65ab62be",
   "metadata": {
    "jupyter": {
     "source_hidden": true
    }
   },
   "outputs": [],
   "source": []
  },
  {
   "cell_type": "code",
   "execution_count": null,
   "id": "f11e1671",
   "metadata": {},
   "outputs": [],
   "source": [
    "4/0"
   ]
  },
  {
   "cell_type": "code",
   "execution_count": null,
   "id": "ba8f28cb",
   "metadata": {},
   "outputs": [],
   "source": [
    "# #90% acc time convoluting\n",
    "# model.add(Conv2D(input_shape=mel_spect_shape[1:],\n",
    "#                 filters=128,kernel_size=(1,4),\n",
    "#                 activation=\"relu\"\n",
    "#                 ))\n",
    "# model.add(MaxPool2D(pool_size=(1,2)))\n",
    "# model.add(Dropout(0.25))\n",
    "\n",
    "# model.add(Conv2D(filters=32, kernel_size=(1,4),\n",
    "#                 activation=\"relu\"))\n",
    "# model.add(MaxPool2D(pool_size=(1,2)))\n",
    "# model.add(Dropout(0.25))\n",
    "\n",
    "# model.add(Conv2D(filters=1, kernel_size=(1,4),\n",
    "#                 activation=\"relu\"))\n",
    "# model.add(MaxPool2D(pool_size=(1,4)))\n",
    "# model.add(Dropout(0.25))\n",
    "\n",
    "# model.add(Flatten())\n",
    "\n",
    "# model.add(Dense(128,activation=\"relu\"))\n",
    "# model.add(Dropout(0.3))\n",
    "\n",
    "# model.add(Dense(64,activation=\"relu\"))\n",
    "# model.add(Dropout(0.3))\n",
    "\n",
    "# model.add(Dense(7,activation=\"softmax\"))"
   ]
  },
  {
   "cell_type": "code",
   "execution_count": null,
   "id": "9fe8cc45",
   "metadata": {},
   "outputs": [],
   "source": [
    "model.compile(optimizer=\"adam\",loss=\"categorical_crossentropy\",metrics=[\"accuracy\"])"
   ]
  },
  {
   "cell_type": "code",
   "execution_count": null,
   "id": "1423999e",
   "metadata": {},
   "outputs": [],
   "source": [
    "model.summary()"
   ]
  },
  {
   "cell_type": "code",
   "execution_count": null,
   "id": "20046dfe",
   "metadata": {},
   "outputs": [],
   "source": [
    "EarlyStop = EarlyStopping(monitor=\"val_loss\",patience=5)"
   ]
  },
  {
   "cell_type": "code",
   "execution_count": null,
   "id": "22115c2b",
   "metadata": {},
   "outputs": [],
   "source": [
    "model.fit(X_train,y_train,epochs=60,batch_size=400,validation_data=(X_test,y_test))"
   ]
  },
  {
   "cell_type": "code",
   "execution_count": null,
   "id": "e332bc38",
   "metadata": {
    "scrolled": true
   },
   "outputs": [],
   "source": [
    "losses = model.history.history\n",
    "\n",
    "plt.plot(losses[\"loss\"])\n",
    "plt.plot(losses[\"val_loss\"])\n",
    "\n",
    "plt.legend([\"loss\",\"validation loss\"])"
   ]
  },
  {
   "cell_type": "code",
   "execution_count": null,
   "id": "5b1af3e7",
   "metadata": {},
   "outputs": [],
   "source": [
    "from sklearn.metrics import confusion_matrix, classification_report\n",
    "predictions = np.argmax(model.predict(X_test), axis=-1)"
   ]
  },
  {
   "cell_type": "code",
   "execution_count": null,
   "id": "f4eaeb00",
   "metadata": {},
   "outputs": [],
   "source": [
    "sns.heatmap(confusion_matrix(np.argmax(y_test,axis=1),predictions), robust=True,annot=True)"
   ]
  },
  {
   "cell_type": "code",
   "execution_count": null,
   "id": "75ca669e",
   "metadata": {},
   "outputs": [],
   "source": [
    "print(classification_report(np.argmax(y_test,axis=1),predictions))"
   ]
  },
  {
   "cell_type": "code",
   "execution_count": null,
   "id": "7805420a",
   "metadata": {},
   "outputs": [],
   "source": [
    "import tensorflow as tf\n",
    "print(\"Num GPUs Available: \", len(tf.config.list_physical_devices('GPU')))"
   ]
  },
  {
   "cell_type": "code",
   "execution_count": null,
   "id": "6d18fe8c",
   "metadata": {},
   "outputs": [],
   "source": [
    "tf.config.list_physical_devices(\"GPU\")"
   ]
  },
  {
   "cell_type": "code",
   "execution_count": null,
   "id": "7e6886bb",
   "metadata": {},
   "outputs": [],
   "source": []
  },
  {
   "cell_type": "code",
   "execution_count": null,
   "id": "0a5c763f",
   "metadata": {},
   "outputs": [],
   "source": []
  }
 ],
 "metadata": {
  "kernelspec": {
   "display_name": "Python 3",
   "language": "python",
   "name": "python3"
  },
  "language_info": {
   "codemirror_mode": {
    "name": "ipython",
    "version": 3
   },
   "file_extension": ".py",
   "mimetype": "text/x-python",
   "name": "python",
   "nbconvert_exporter": "python",
   "pygments_lexer": "ipython3",
   "version": "3.8.5"
  }
 },
 "nbformat": 4,
 "nbformat_minor": 5
}
